{
 "cells": [
  {
   "cell_type": "code",
   "execution_count": 1,
   "id": "96f86d1f-b8cd-4795-bdc8-30e51e1a8ac2",
   "metadata": {},
   "outputs": [],
   "source": [
    "import json\n",
    "import pandas as pd"
   ]
  },
  {
   "cell_type": "code",
   "execution_count": 2,
   "id": "6bd78a7f-b647-4503-b23b-4998a86e661c",
   "metadata": {},
   "outputs": [
    {
     "data": {
      "text/plain": [
       "(2399, 278)"
      ]
     },
     "execution_count": 2,
     "metadata": {},
     "output_type": "execute_result"
    }
   ],
   "source": [
    "with open(\"app/data/atms.json\") as f:\n",
    "    atms = json.load(f)[\"atms\"]\n",
    "\n",
    "with open(\"app/data/offices.json\") as f:\n",
    "    offices = json.load(f)\n",
    "\n",
    "atms_df = pd.DataFrame(atms)\n",
    "offices_df = pd.DataFrame(offices)\n",
    "len(atms_df), len(offices_df)"
   ]
  },
  {
   "cell_type": "code",
   "execution_count": 21,
   "id": "cd6a2265-67ed-4f20-8112-700b46cce3b0",
   "metadata": {},
   "outputs": [
    {
     "data": {
      "text/plain": [
       "{'AVAILABLE', 'SUPPORTED', 'UNAVAILABLE', 'UNKNOWN', 'UNSUPPORTED'}"
      ]
     },
     "execution_count": 21,
     "metadata": {},
     "output_type": "execute_result"
    }
   ],
   "source": [
    "keys = set()\n",
    "for service in atms_df.services:\n",
    "    for value in service.values():\n",
    "        keys.update(value.values())\n",
    "keys"
   ]
  },
  {
   "cell_type": "code",
   "execution_count": 4,
   "id": "0cccdca9-38ee-41be-aa98-80fa040fa17a",
   "metadata": {},
   "outputs": [
    {
     "data": {
      "text/plain": [
       "Index(['salePointName', 'address', 'status', 'openHours', 'rko',\n",
       "       'openHoursIndividual', 'officeType', 'salePointFormat',\n",
       "       'suoAvailability', 'hasRamp', 'latitude', 'longitude', 'metroStation',\n",
       "       'distance', 'kep', 'myBranch', 'network', 'salePointCode'],\n",
       "      dtype='object')"
      ]
     },
     "execution_count": 4,
     "metadata": {},
     "output_type": "execute_result"
    }
   ],
   "source": [
    "offices_df.columns"
   ]
  },
  {
   "cell_type": "code",
   "execution_count": 5,
   "id": "6eb865b9-111d-4e76-a7bb-9c8280fd7809",
   "metadata": {},
   "outputs": [
    {
     "data": {
      "text/plain": [
       "(36.853474, 38.377728)"
      ]
     },
     "execution_count": 5,
     "metadata": {},
     "output_type": "execute_result"
    }
   ],
   "source": [
    "offices_df.longitude.min(), offices_df.longitude.max()"
   ]
  },
  {
   "cell_type": "code",
   "execution_count": 6,
   "id": "3b44a6c1-4fbe-448d-8a6d-688af370ef5f",
   "metadata": {},
   "outputs": [
    {
     "data": {
      "text/plain": [
       "(55.419247, 56.184479)"
      ]
     },
     "execution_count": 6,
     "metadata": {},
     "output_type": "execute_result"
    }
   ],
   "source": [
    "offices_df.latitude.min(), offices_df.latitude.max()"
   ]
  },
  {
   "cell_type": "code",
   "execution_count": 12,
   "id": "581dc00e-4120-435a-af2e-b2c3e51a0782",
   "metadata": {},
   "outputs": [
    {
     "data": {
      "text/plain": [
       "array([nan, 'test111112', 'test111111'], dtype=object)"
      ]
     },
     "execution_count": 12,
     "metadata": {},
     "output_type": "execute_result"
    }
   ],
   "source": [
    "offices_df.salePointCode.unique()"
   ]
  },
  {
   "cell_type": "code",
   "execution_count": null,
   "id": "df2d5ad9-32b5-4e9b-980f-1f2fd3dec8c5",
   "metadata": {},
   "outputs": [],
   "source": []
  }
 ],
 "metadata": {
  "kernelspec": {
   "display_name": "Python 3 (ipykernel)",
   "language": "python",
   "name": "python3"
  },
  "language_info": {
   "codemirror_mode": {
    "name": "ipython",
    "version": 3
   },
   "file_extension": ".py",
   "mimetype": "text/x-python",
   "name": "python",
   "nbconvert_exporter": "python",
   "pygments_lexer": "ipython3",
   "version": "3.10.12"
  }
 },
 "nbformat": 4,
 "nbformat_minor": 5
}
